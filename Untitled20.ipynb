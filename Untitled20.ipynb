{
 "cells": [
  {
   "cell_type": "code",
   "execution_count": 2,
   "id": "e517cc35-4141-4953-adc2-9b92a268208e",
   "metadata": {},
   "outputs": [
    {
     "name": "stderr",
     "output_type": "stream",
     "text": [
      "[*********************100%%**********************]  1 of 1 completed\n"
     ]
    }
   ],
   "source": [
    "import streamlit as st\n",
    "import yfinance as yf\n",
    "from prophet import Prophet\n",
    "from prophet.plot import plot_plotly\n",
    "import plotly.graph_objs as go\n",
    "\n",
    "st.title('Stock Price Prediction App')\n",
    "\n",
    "# Sidebar\n",
    "st.sidebar.title('Settings')\n",
    "stock_symbol = st.sidebar.text_input('Enter Stock Symbol (e.g., AAPL for Apple)', 'AAPL')\n",
    "period = st.sidebar.selectbox('Select Time Period', ['1d', '5d', '1mo', '3mo', '6mo', '1y', '2y', '5y', '10y', 'ytd', 'max'])\n",
    "\n",
    "def load_data(symbol, period):\n",
    "    data = yf.download(symbol, period=period)\n",
    "    return data\n",
    "\n",
    "data_load_state = st.text('Loading data...')\n",
    "data = load_data(stock_symbol, period)\n",
    "data_load_state.text('Data loaded successfully!')\n",
    "\n",
    "st.subheader('Raw Data')\n",
    "st.write(data)\n",
    "\n",
    "# Plotting\n",
    "st.subheader('Interactive Stock Price Plot')\n",
    "trace1 = go.Scatter(x=data.index, y=data['Close'], mode='lines', name='Close')\n",
    "layout = go.Layout(title='Interactive Stock Price Plot', xaxis_title='Date', yaxis_title='Close Price')\n",
    "fig = go.Figure(data=[trace1], layout=layout)\n",
    "st.plotly_chart(fig, use_container_width=True)\n",
    "\n",
    "# Debugging: Check Data\n",
    "st.subheader('Debugging: Check Data')\n",
    "st.write(data.head())\n",
    "\n",
    "# Debugging: Check Missing Values\n",
    "st.subheader('Debugging: Check Missing Values')\n",
    "st.write(data.isnull().sum())\n",
    "\n",
    "# Prophet Forecasting\n",
    "st.subheader('Prophet Forecasting')\n",
    "\n",
    "# Preprocess data for Prophet\n",
    "df_prophet = data.reset_index()[['Date', 'Close']].rename(columns={'Date':'ds', 'Close':'y'})\n",
    "\n",
    "# Debugging: Check Data for Prophet\n",
    "st.write(df_prophet.head())\n",
    "\n",
    "# Check if data has enough rows\n",
    "if len(df_prophet) < 2:\n",
    "    st.error('Dataframe has less than 2 non-NaN rows.')\n",
    "else:\n",
    "    m = Prophet()\n",
    "    m.fit(df_prophet)\n",
    "    future = m.make_future_dataframe(periods=365)\n",
    "    forecast = m.predict(future)\n",
    "    fig = plot_plotly(m, forecast)\n",
    "    st.plotly_chart(fig)\n"
   ]
  },
  {
   "cell_type": "code",
   "execution_count": null,
   "id": "742df6e6-0365-46c3-8920-18ede9a382e6",
   "metadata": {},
   "outputs": [],
   "source": []
  }
 ],
 "metadata": {
  "kernelspec": {
   "display_name": "Python 3 (ipykernel)",
   "language": "python",
   "name": "python3"
  },
  "language_info": {
   "codemirror_mode": {
    "name": "ipython",
    "version": 3
   },
   "file_extension": ".py",
   "mimetype": "text/x-python",
   "name": "python",
   "nbconvert_exporter": "python",
   "pygments_lexer": "ipython3",
   "version": "3.12.2"
  }
 },
 "nbformat": 4,
 "nbformat_minor": 5
}
